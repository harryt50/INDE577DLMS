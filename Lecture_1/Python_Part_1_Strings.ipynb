{
  "cells": [
    {
      "cell_type": "markdown",
      "metadata": {
        "id": "mWUxDBbzv62k"
      },
      "source": [
        "---\n",
        "\n",
        "# Python Part 1. Strings\n",
        "\n",
        "[![Open In Colab](https://colab.research.google.com/assets/colab-badge.svg)](https://colab.research.google.com/github/RandyRDavila/Data_Science_and_Machine_Learning_Spring_2022/blob/main/Lecture_1/Python_Part_1_Strings.ipynb)\n",
        "\n",
        "\n",
        "\n",
        "Python strings are sequences of characters and symbols surrounded by ``` \" \" ``` or by ``` ' ' ```, and will be used in many contexts, such as when writing *doc strings*, printing descriptive output, and when naming the columns of tabular data (*DataFrames*). Strings are also often the first representation of data read into a program before being converted to numerical values (if needed). To illustrate how strings work consider typing the following code into the cell below:\n",
        "\n",
        "```python\n",
        "# This is one way to define a string\n",
        "first_name = \"John\"\n",
        "\n",
        "# This is another way to define a string\n",
        "last_name = 'Doe'\n",
        "\n",
        "```\n",
        "\n",
        "**Tip 1.** When writing code in a professional manor try and stay consistant with how you define your strings.\n",
        "\n",
        "**Tip 2.** This code is an example of **variable assignment**. Variable names must begin with a non-numerical value and should always be lower case. Also, it is standard in Python to use underscores to seperate words in variable names.\n",
        "\n",
        "---"
      ]
    },
    {
      "cell_type": "code",
      "execution_count": 2,
      "metadata": {
        "id": "DYvVTO1uv62l"
      },
      "outputs": [],
      "source": []
    },
    {
      "cell_type": "code",
      "execution_count": null,
      "metadata": {},
      "outputs": [],
      "source": [
        "first_name = \"Harry\"\n",
        "last_name = \"Tackey-Otoo\""
      ]
    },
    {
      "cell_type": "markdown",
      "metadata": {
        "id": "Fq4Hw5K1v62m"
      },
      "source": [
        "---\n",
        "\n",
        "You can check the values of the variables ```first_name``` and ```last_name``` by printing them with the ```print()``` function:\n",
        "```python\n",
        "print(first_name)\n",
        "\n",
        "print(last_name)\n",
        "```\n",
        "\n",
        "---"
      ]
    },
    {
      "cell_type": "code",
      "execution_count": 12,
      "metadata": {
        "colab": {
          "base_uri": "https://localhost:8080/"
        },
        "id": "tCGoYaTsv62m",
        "outputId": "b35f8120-daed-445b-bf4d-ee64105bc72e"
      },
      "outputs": [
        {
          "name": "stdout",
          "output_type": "stream",
          "text": [
            "Harry\n",
            "Tackey-Otoo\n"
          ]
        }
      ],
      "source": [
        "print(first_name)\n",
        "print(last_name)"
      ]
    },
    {
      "cell_type": "markdown",
      "metadata": {
        "id": "4VJYHocRv62m"
      },
      "source": [
        "---\n",
        "\n",
        "We can insert a newline after a print statement by including the *new line character* ```\"\\n\"``` in the print function. Compare the following code with that above:\n",
        "```python\n",
        "print(first_name, \"\\n\")\n",
        "print(last_name)\n",
        "\n",
        "```\n",
        "\n",
        "---"
      ]
    },
    {
      "cell_type": "code",
      "execution_count": 4,
      "metadata": {
        "colab": {
          "base_uri": "https://localhost:8080/"
        },
        "id": "2puVZF8mv62m",
        "outputId": "f1b2dc45-cd9d-46ad-b5de-d3aec88558f6"
      },
      "outputs": [
        {
          "name": "stdout",
          "output_type": "stream",
          "text": [
            "Harry \n",
            "\n",
            "Tackey-Otoo\n"
          ]
        }
      ],
      "source": [
        "print(first_name, \"\\n\")\n",
        "print(last_name)"
      ]
    },
    {
      "cell_type": "markdown",
      "metadata": {
        "id": "HCLpDX3yv62n"
      },
      "source": [
        "---\n",
        "\n",
        "**String concatenation** is the process of merging one or more strings together. In Python this process is done by way of calling the ```+``` operator. For example, try running this in the following code cell:\n",
        "```python\n",
        "first_name + last_name\n",
        "\n",
        "```\n",
        "\n",
        "**Note.** If you are just wanting to view the value of one line of code, you do not have to call the ```print()``` function. This only works in the Python REPL and Jupyter notebooks.\n",
        "\n",
        "---"
      ]
    },
    {
      "cell_type": "code",
      "execution_count": 5,
      "metadata": {
        "colab": {
          "base_uri": "https://localhost:8080/",
          "height": 35
        },
        "id": "jEQ0rRzSv62n",
        "outputId": "e8814894-ec5c-402b-fee7-d56f2ae0ab92"
      },
      "outputs": [
        {
          "data": {
            "text/plain": [
              "'HarryTackey-Otoo'"
            ]
          },
          "execution_count": 5,
          "metadata": {},
          "output_type": "execute_result"
        }
      ],
      "source": [
        "first_name + last_name"
      ]
    },
    {
      "cell_type": "markdown",
      "metadata": {
        "id": "Mnkwsaddv62o"
      },
      "source": [
        "---\n",
        "\n",
        "We can easily add a white space (which is itself a character) between the first_name and last_name variable by running:\n",
        "```python\n",
        "first_name + \" \" + last_name\n",
        "```\n",
        "\n",
        "\n",
        "---"
      ]
    },
    {
      "cell_type": "code",
      "execution_count": 6,
      "metadata": {
        "colab": {
          "base_uri": "https://localhost:8080/",
          "height": 35
        },
        "id": "wuy2B1dQv62o",
        "outputId": "88592e84-f91c-4fe1-d1d4-d3584066ad5f"
      },
      "outputs": [
        {
          "data": {
            "text/plain": [
              "'Harry Tackey-Otoo'"
            ]
          },
          "execution_count": 6,
          "metadata": {},
          "output_type": "execute_result"
        }
      ],
      "source": [
        "first_name + \" \" + last_name"
      ]
    },
    {
      "cell_type": "markdown",
      "metadata": {
        "id": "9uTZruwjv62p"
      },
      "source": [
        "---\n",
        "\n",
        "Often times we need to place the value of a variable into a string. This **string interpolation** can be done using *f-strings*. This operation works by placing the letter ```f``` on the left side of your string in question and then placing variables inside ```{}```. For example try running the following code in the cell below:\n",
        "```python\n",
        "# Define a new variable age\n",
        "age = 34\n",
        "\n",
        "# String interpolation\n",
        "f\"{first_name} {last_name} is {age} years old\"\n",
        "```\n",
        "\n",
        "---"
      ]
    },
    {
      "cell_type": "code",
      "execution_count": 7,
      "metadata": {
        "colab": {
          "base_uri": "https://localhost:8080/",
          "height": 35
        },
        "id": "ojbjk_Klv62p",
        "outputId": "e807de5c-1331-45d3-ee03-00915e8a177f"
      },
      "outputs": [
        {
          "data": {
            "text/plain": [
              "'Harry Tackey-Otoo is 38 years old. I am from Ghana'"
            ]
          },
          "execution_count": 7,
          "metadata": {},
          "output_type": "execute_result"
        }
      ],
      "source": [
        "# Define a new variable age\n",
        "age = 38\n",
        "\n",
        "country_of_origin = \"Ghana\"\n",
        "\n",
        "# String interpolation\n",
        "f\"{first_name} {last_name} is {age} years old. I am from {country_of_origin}\""
      ]
    },
    {
      "cell_type": "markdown",
      "metadata": {
        "id": "-nAan53Rv62p"
      },
      "source": [
        "---\n",
        "\n",
        "**Everything in Python is an object and objects have attributes and methods associated with them.** When encountering a new Python object it is good practice to look up the attributes and methods associated with the object in question. For a list of all strings methods please click [here](https://www.w3schools.com/python/python_ref_string.asp), or try out the following abreviated list chosen at random:\n",
        "\n",
        "1. ```capitalize()```:  Converts the first character to upper case\n",
        "2. ```title()```:  Capitalizes the first letter of each word\n",
        "3. ```count()```:  Returns the number of times a specified value occurs in a string\n",
        "4. ```find()```:  Searches the string for a specified value and returns the position of where it was found\n",
        "\n",
        "**The attributes and methods of an object are accessed with:**\n",
        "* ```object.attribute```\n",
        "* ```object.method()```\n",
        "\n",
        "For example, try running the following code in the cell below:\n",
        "\n",
        "```python\n",
        "test_string = \"hello world\"\n",
        "test_string.title()\n",
        "\n",
        "```\n",
        "\n",
        "\n",
        "---"
      ]
    },
    {
      "cell_type": "code",
      "execution_count": 8,
      "metadata": {
        "colab": {
          "base_uri": "https://localhost:8080/",
          "height": 35
        },
        "id": "RuWhRjLSv62q",
        "outputId": "eecf8309-bb06-4a66-cf3c-be86182960fd"
      },
      "outputs": [
        {
          "data": {
            "text/plain": [
              "'Hello World'"
            ]
          },
          "execution_count": 8,
          "metadata": {},
          "output_type": "execute_result"
        }
      ],
      "source": [
        "test_string = \"hello world\"\n",
        "test_string.title()"
      ]
    },
    {
      "cell_type": "markdown",
      "metadata": {
        "id": "H0e0zQnWv62q"
      },
      "source": [
        "---\n",
        "\n",
        "Notice that the first character in ```test_string``` now appears capitalized. This output was *returned* by the method ```title()``` and did not alter the variable itself. In particular it is important to note that **strings are immutable**. This can be varified by running the following code in the cell below:\n",
        "```python\n",
        "print(test_string)\n",
        "```\n",
        "\n",
        "\n",
        "\n",
        "---"
      ]
    },
    {
      "cell_type": "code",
      "execution_count": 9,
      "metadata": {
        "colab": {
          "base_uri": "https://localhost:8080/"
        },
        "id": "Ojv3YbCJv62q",
        "outputId": "fddc5f58-ab09-4287-fc69-81a07c37c43f"
      },
      "outputs": [
        {
          "name": "stdout",
          "output_type": "stream",
          "text": [
            "hello world\n"
          ]
        }
      ],
      "source": [
        "print(test_string)"
      ]
    },
    {
      "cell_type": "markdown",
      "metadata": {
        "id": "Ma98Pmrpv62q"
      },
      "source": [
        "---\n",
        "\n",
        "Next lets try the ```count()``` string method. Run the following code in the cell below:\n",
        "```python\n",
        "test_string.count()\n",
        "```\n",
        "\n",
        "\n",
        "---"
      ]
    },
    {
      "cell_type": "code",
      "execution_count": 10,
      "metadata": {
        "colab": {
          "base_uri": "https://localhost:8080/"
        },
        "id": "w85aJFezv62q",
        "outputId": "8ecf8213-9217-4f14-8e4d-94462dd8ce97"
      },
      "outputs": [
        {
          "data": {
            "text/plain": [
              "2"
            ]
          },
          "execution_count": 10,
          "metadata": {},
          "output_type": "execute_result"
        }
      ],
      "source": [
        "test_string.count(\"o\")"
      ]
    },
    {
      "cell_type": "markdown",
      "metadata": {
        "id": "zEhM8Bvkv62q"
      },
      "source": [
        "---\n",
        "Running the code above should produce the following message:\n",
        "\n",
        "---\n",
        "\n",
        "```python\n",
        "---------------------------------------------------------------------------\n",
        "TypeError                                 Traceback (most recent call last)\n",
        "<ipython-input-32-a6597d389766> in <module>\n",
        "----> 1 test_string.count()\n",
        "\n",
        "TypeError: count() takes at least 1 argument (0 given)\n",
        "\n",
        "```\n",
        "\n",
        "---\n",
        "\n",
        "\n",
        "**Tip.** Whenever you encounter an error it is important to quickly view the last line of the error output in order to quickly diagnose what is going wrong.\n",
        "\n",
        "In our case we see the line ```TypeError: count() takes at least 1 argument (0 given)```. This tells me that the ```count()``` string method takes at least one argument. We can access help with this problem by calling the ```help()``` function built into base Python. Run the following code in the cell below:\n",
        "```python\n",
        "help(test_string.count)\n",
        "```\n",
        "\n",
        "\n",
        "---"
      ]
    },
    {
      "cell_type": "code",
      "execution_count": 11,
      "metadata": {
        "id": "imb0CG7hv62r"
      },
      "outputs": [
        {
          "name": "stdout",
          "output_type": "stream",
          "text": [
            "Help on built-in function count:\n",
            "\n",
            "count(...) method of builtins.str instance\n",
            "    S.count(sub[, start[, end]]) -> int\n",
            "    \n",
            "    Return the number of non-overlapping occurrences of substring sub in\n",
            "    string S[start:end].  Optional arguments start and end are\n",
            "    interpreted as in slice notation.\n",
            "\n"
          ]
        }
      ],
      "source": [
        "help(test_string.count)"
      ]
    },
    {
      "cell_type": "markdown",
      "metadata": {
        "id": "sYvXcn61v62r"
      },
      "source": [
        "---\n",
        "\n",
        "Apparently the ```count()``` string method requires one substring argument and returns the number of occurences of this substring. So for example, try running the following code in the cell below:\n",
        "```python\n",
        "print(test_string, \"\\n\")\n",
        "test_string.count(\"l\")\n",
        "```\n",
        "\n",
        "---"
      ]
    },
    {
      "cell_type": "code",
      "execution_count": null,
      "metadata": {
        "id": "FZ7SNbfJv62r"
      },
      "outputs": [],
      "source": []
    },
    {
      "cell_type": "markdown",
      "metadata": {
        "id": "MXIKXJfVv62r"
      },
      "source": [
        "---\n",
        "\n",
        "There are so many more string methods that I hope you explore on your own since we do not have time to explore them all here. Before moving to the next string topic try running one of my favorite string methods in the cell below:\n",
        "\n",
        "```python\n",
        "txt = \"I like bananas\"\n",
        "x = txt.replace(\"bananas\", \"apples\")\n",
        "print(x)\n",
        "```\n",
        "\n",
        "\n",
        "---"
      ]
    },
    {
      "cell_type": "code",
      "execution_count": null,
      "metadata": {
        "id": "FOFd4IPAv62r"
      },
      "outputs": [],
      "source": []
    },
    {
      "cell_type": "markdown",
      "metadata": {
        "id": "90l1P_cxv62r"
      },
      "source": [
        "---\n",
        "\n",
        "## Strings are Sequences of Characters\n",
        "\n",
        "Next recall that **strings are sequences of characters** and hence must have a length! We can find out how many characters are in a string by calling the ```len()``` function. For example try:\n",
        "```python\n",
        "\n",
        "full_name = first_name + \" \" + last_name\n",
        "print(f\"{full_name} contains {len(full_name)} characters\")\n",
        "```\n",
        "\n",
        "\n",
        "---"
      ]
    },
    {
      "cell_type": "code",
      "execution_count": null,
      "metadata": {
        "id": "YgC-yIrPv62r"
      },
      "outputs": [],
      "source": []
    },
    {
      "cell_type": "markdown",
      "metadata": {
        "id": "0r_LWpYov62r"
      },
      "source": [
        "---\n",
        "\n",
        "## String Indexing\n",
        "\n",
        "Since sequences are *ordered* and since strings are sequences of characters, it is natural to assume that characters in a string have *location* specified by a given index. In Python (and most other programming languages) indexing starts at 0. For example try running the following code in the cell below:\n",
        "```python\n",
        "test_string = \"abcdefg\"\n",
        "print(f\"The character at the 0 index of {test_string} is {test_string[0]} \\n\")\n",
        "print(f\"The character at the 1 index of {test_string} is {test_string[1]} \\n\")\n",
        "print(f\"The character at the 2 index of {test_string} is {test_string[2]} \\n\")\n",
        "```\n",
        "\n",
        "\n",
        "---"
      ]
    },
    {
      "cell_type": "code",
      "execution_count": null,
      "metadata": {
        "id": "fU9s0MBHv62r"
      },
      "outputs": [],
      "source": []
    },
    {
      "cell_type": "markdown",
      "metadata": {
        "id": "zhsWFyl5v62s"
      },
      "source": [
        "---\n",
        "\n",
        "**We can also reverse index**:\n",
        "\n",
        "```python\n",
        "test_string = \"abcdefg\"\n",
        "print(f\"The character at the -1 index of {test_string} is {test_string[-1]} \\n\")\n",
        "print(f\"The character at the -2 index of {test_string} is {test_string[-2]} \\n\")\n",
        "print(f\"The character at the -3 index of {test_string} is {test_string[-3]} \\n\")\n",
        "```\n",
        "\n",
        "\n",
        "What did you notice?\n",
        "\n",
        "---"
      ]
    },
    {
      "cell_type": "code",
      "execution_count": null,
      "metadata": {
        "id": "UYAsu3S7v62s"
      },
      "outputs": [],
      "source": []
    },
    {
      "cell_type": "markdown",
      "metadata": {
        "id": "sunzv0o8v62s"
      },
      "source": [
        "---\n",
        "\n",
        "## String Slicing\n",
        "\n",
        "\n",
        "Anytime you can index through an object in Python you can also *slice* through the object. For example, try running the following code in the cell below:\n",
        "```python\n",
        "print(test_string[1])\n",
        "print(test_string[2])\n",
        "print(test_string[3])\n",
        "print(test_string[1:4])\n",
        "```\n",
        "**Note.** The synax ```object[a:b]``` means every entry of your  ```object``` starting at index ```a``` and ending at index ```b-1```.\n",
        "\n",
        "---"
      ]
    },
    {
      "cell_type": "code",
      "execution_count": null,
      "metadata": {
        "id": "jMu7dJZtv62s"
      },
      "outputs": [],
      "source": []
    },
    {
      "cell_type": "code",
      "execution_count": null,
      "metadata": {
        "id": "qr6xlaDtv62s"
      },
      "outputs": [],
      "source": []
    },
    {
      "cell_type": "code",
      "execution_count": null,
      "metadata": {
        "id": "DNCFYlO4v62s"
      },
      "outputs": [],
      "source": []
    }
  ],
  "metadata": {
    "@webio": {
      "lastCommId": null,
      "lastKernelId": null
    },
    "colab": {
      "provenance": []
    },
    "kernelspec": {
      "display_name": "Python 3",
      "language": "python",
      "name": "python3"
    },
    "language_info": {
      "codemirror_mode": {
        "name": "ipython",
        "version": 3
      },
      "file_extension": ".py",
      "mimetype": "text/x-python",
      "name": "python",
      "nbconvert_exporter": "python",
      "pygments_lexer": "ipython3",
      "version": "3.10.11"
    }
  },
  "nbformat": 4,
  "nbformat_minor": 0
}
